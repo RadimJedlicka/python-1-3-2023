{
 "cells": [
  {
   "cell_type": "markdown",
   "metadata": {
    "id": "Ij7r3U7d5MgR"
   },
   "source": [
    "<h6 align=right> 🐍 Python akademie - lekce 12 - 17.05.2023</h6>\n",
    "\n",
    "---\n",
    "\n"
   ]
  },
  {
   "cell_type": "markdown",
   "metadata": {
    "id": "j8PzbpHe5Maj"
   },
   "source": [
    "<br>\n",
    "\n",
    "# <h1 align=center><font size=24><b> 12_00:  Úvod do webscrapingu</font></h1>\n",
    "\n",
    "<br>\n"
   ]
  },
  {
   "cell_type": "markdown",
   "metadata": {
    "id": "4gyoQuOm592u"
   },
   "source": [
    "Je to obecně pojem, který znamená stažení/extrahování dat z webu.\n",
    "\n",
    "\n",
    "Konkrétně v našem případě (tedy v Pythonu) budeme mluvit o procesu, kdy pomocí našeho zápisu v souboru .py popíšeme interpretu, jaké údaje na webu hledáme, a on je pro nás získá."
   ]
  },
  {
   "cell_type": "markdown",
   "metadata": {
    "id": "xDW8G6oq27NK"
   },
   "source": [
    "### **Praktická aplikace**"
   ]
  },
  {
   "cell_type": "code",
   "execution_count": 1,
   "metadata": {
    "id": "1t954MUV27NM"
   },
   "outputs": [
    {
     "name": "stdout",
     "output_type": "stream",
     "text": [
      "Prince Harryho a Meghan naháněli paparazzi. Tragédie byla blízko, tvrdí\n",
      "Důchodový věk zjistí dnešní padesátníci jen pár let dopředu, upřesnil Jurečka\n",
      "Na rakouských ferratách zemřely Češky, policie viní průvodce a jeho kamaráda\n",
      "Vůbec nevím, proč by měl být umělec chudej, je to nesmysl, říká David Černý\n",
      "Vláda zrušila bezplatné užívání objektů Ruskem, jde celkem o 59 pozemků\n",
      "Nesvačilová v Playboyi. Zažít luxus byl splněný sen, říká sexbomba z Tábora\n",
      "{NADPIS reklamního článku dlouhý přes dva řádky}\n",
      "Bek nastínil nové přijímačky na střední. Žáci přestanou váhat, školu jim určí\n",
      "Depp je zpět. Hollywood nepotřebuji, napadení Amber je fikce, řekl v Cannes\n",
      "Podivné zázemí. Atmosféru zachraňují Češi i Slováci, souhlasí reportér z Rigy\n",
      "Vyřízl si okno, donesl kamna. Muž bez domova se zabydlel v budce u kolejí\n",
      "Prodavačky snědly darované sušenky s marihuanou, skončily v bezvědomí na JIP\n",
      "„Český Quake“ je konečně hotový. Hrot je řežba v kulisách tvrdého socialismu\n",
      "ANALÝZA: Co se děje v Zelenského štábu aneb z války vidíme jen výřez\n",
      "Chlap by neměl luxovat ani mýt nádobí, je to asexuální, míní Brodská\n",
      "KVÍZ: Poznáte místa s nádhernými východy a západy slunce v Česku?\n",
      "Na souboj Kincla a Vémoly do O2 areny. Stream a vstupenky na Oktagon 43 zdarma\n",
      "Doktor Vševěd píše pro iDNES.cz: o Islandu a potvorách náramně hrozných\n",
      "Rady a fígle vyjednávače: Ego likviduje vztahy a argumenty zhoršují atmosféru\n",
      "Mírovou cestou ke svržení Lukašenka nedojdeme, míní analytik Poleščuk\n",
      "Pivní expert Orlando Bloom. Staropramen ukázal klip s hollywoodskou hvězdou\n",
      "Poslanci kývli na změnu výběru členů Rady ČT. Baxa dohodl kompromis s ANO\n",
      "Jak to bylo s koněm Kadyrova. Čečenský vůdce tvrdí, že mu pomohla policie\n",
      "Milion lidí v Česku nechce zubaře, tvrdí komora. Nejvíc v Praze, ukázala data\n",
      "Vlak vezl nová auta, z jednoho po cestě někdo ukradl všechna kola\n",
      "Jak vyzrát na důchody a ušetřit ohromné množství peněz? Odpověď má čtyři písmena\n",
      "Teď sbírám známky. Naučily mě trpělivosti a pomohly i v tenisu, říká Kodeš\n",
      "Oktagon se vrací na Štvanici! Nakupte si ty nejlepší vstupenky jako první\n",
      "Vstupenky zdarma na beznadějně vyprodaný koncert Karpe: Omar Sheriff Tour v Roxy\n",
      "Největší škody lidstvo už na zeměkouli učinilo, říká cestovatelská legenda\n",
      "KOMENTÁŘ: Tahle země není pro malé. Opravdu balíček pomůže malým vinařům?\n",
      "Kam zmizel kluk ze seznamky? E-kniha Poslední opuštěná dívka zdarma\n",
      "KVÍZ: Hlinkův mistrovský tah a vysílání z Ruska. Co víte o zlatém hattricku?\n",
      "Prodej United: Katar přitlačil, ale současný majitel mlčí. Nedůstojné, říká novinář\n",
      "Provokace, kopance, pěsti. Finále asijských her provázely nechutné scény\n",
      "Jak doplnit lazaret. Hnilička vysvětluje: V úvahu připadají vyřazení hráči\n",
      "Raději se vyhnout Realu, přeje si Zanetti. Finále je satisfakce, říká kouč Interu\n",
      "Našel jsem svůj zlatý důl. Padesátník Gabriel o byznysu, Spartě i nálepce\n",
      "Nechtěla bych ve vyšším věku vodit dítě do školky, říká Taťána Kuchařová\n",
      "Arabelu nechtěli pustit do kapitalistické ciziny, vzpomíná Jana Nagyová\n",
      "Island a Češi? Doktor Vševěd o tom, co máme překvapivě společného\n",
      "Když v Praze zavedeme plošně třicítku, ucpeme ji, říká expert v Rozstřelu\n",
      "Zelda láme rekordy. Výtečná hodnocení doprovázejí fenomenální prodeje\n",
      "Drsná rozepře mezi Sugar Denny a Veronicou Biasiol: Plánují i trestní oznámení\n",
      "I šéf firmy, která vyvinula ChatGPT, požaduje regulaci umělé inteligence\n",
      "OBRAZEM: Krása, nahota, emoce. Černobílé akty podněcují fantazii\n",
      "Toto je jedna z nejstřeženějších budov T-Mobilu. Je k tomu dobrý důvod\n",
      "Žena sdílela svou proměnu po letech abstinence\n",
      "Sex s ex, čokoláda i změna v bytě vytáhnou z temnot. Jak na porozchodové blues\n",
      "Našli zchátralou chalupu za dobrou cenu. V rekordním čase ji opravili\n",
      "Nafoukli rodinný dům. Nad schody vybudovali dětský pokoj pro hokejistku\n",
      "Hodně jiná země. Absurdní svět Turkmenistánu se pomalu otevírá turistům\n",
      "Rodiče a žáci, přijímací zkoušky a kvalita vzdělávání záleží i na vás\n",
      "Středula či odbory jdou rozumu navzdory\n",
      "V důchodu dvacet jedna a půl roku? Zajímavá idea\n",
      "Proč konsolidační balíček nemůže fungovat\n",
      "Nesvačilová v Playboyi ukáže, o co přišel Kolečko\n",
      "Děti z Modřan se bojí sígra s plynovkou\n",
      "NobodyListen má novou lásku?\n",
      "Rozhovor s vítězkou soutěže Miss\n",
      "Marie Růžičková po pohřbu Petra Klímy: Takhle tlustá nejsem! Novináře nařkla z Photoshopu\n",
      "Johanka ze Survivoru: Prožívám stres, špatně spím, na letišti jsem se dozvěděla, že se stěhuji\n"
     ]
    }
   ],
   "source": [
    "# rychlo-ukázka\n",
    "import requests\n",
    "from bs4 import BeautifulSoup\n",
    "\n",
    "url = \"https://www.idnes.cz/\"\n",
    "\n",
    "odpoved_serveru = requests.get(url)\n",
    "\n",
    "rozdelene_html = BeautifulSoup(odpoved_serveru.content)\n",
    "\n",
    "vsechny_elementy_a = rozdelene_html.find_all(\"a\", {\"class\": \"art-link\"})\n",
    "\n",
    "vysledky = {}\n",
    "\n",
    "for elem_a in vsechny_elementy_a:\n",
    "    vysledky[elem_a[\"href\"]] = elem_a.get_text()\n",
    "\n",
    "for clanek in vysledky:\n",
    "    print(vysledky[clanek].strip())"
   ]
  }
 ],
 "metadata": {
  "colab": {
   "provenance": []
  },
  "kernelspec": {
   "display_name": "Python 3 (ipykernel)",
   "language": "python",
   "name": "python3"
  },
  "language_info": {
   "codemirror_mode": {
    "name": "ipython",
    "version": 3
   },
   "file_extension": ".py",
   "mimetype": "text/x-python",
   "name": "python",
   "nbconvert_exporter": "python",
   "pygments_lexer": "ipython3",
   "version": "3.10.0"
  }
 },
 "nbformat": 4,
 "nbformat_minor": 1
}
